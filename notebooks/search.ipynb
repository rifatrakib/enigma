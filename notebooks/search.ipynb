{
 "cells": [
  {
   "cell_type": "code",
   "execution_count": 1,
   "metadata": {},
   "outputs": [],
   "source": [
    "from pymongo import MongoClient\n",
    "from pprint import pprint"
   ]
  },
  {
   "cell_type": "code",
   "execution_count": 2,
   "metadata": {},
   "outputs": [],
   "source": [
    "client = MongoClient('localhost', 27017)"
   ]
  },
  {
   "cell_type": "code",
   "execution_count": 3,
   "metadata": {},
   "outputs": [],
   "source": [
    "search_keyword = 'word1 word2'"
   ]
  },
  {
   "cell_type": "code",
   "execution_count": 4,
   "metadata": {},
   "outputs": [
    {
     "name": "stdout",
     "output_type": "stream",
     "text": [
      "[{'_id': ObjectId('604defe9478140f46cd5747b'),\n",
      "  'words': [{'count': 2, 'frq': 2.34, 'word': 'word1'},\n",
      "            {'count': 1, 'frq': 0.57, 'word': 'word2'}]},\n",
      " {'_id': ObjectId('604deffd478140f46cd5747c'),\n",
      "  'words': [{'count': 3, 'frq': 2.34, 'word': 'word1'},\n",
      "            {'count': 1, 'frq': 4.65, 'word': 'word3'}]},\n",
      " {'_id': ObjectId('604df004478140f46cd5747d'),\n",
      "  'words': [{'count': 2, 'frq': 0.57, 'word': 'word2'}]}]\n"
     ]
    }
   ],
   "source": [
    "data = list(client['enigma']['test'].find())\n",
    "pprint(data)"
   ]
  },
  {
   "cell_type": "code",
   "execution_count": 6,
   "metadata": {},
   "outputs": [],
   "source": [
    "pipeline = [\n",
    "    {\n",
    "        '$project': {\n",
    "            '_id': 0,\n",
    "            'word_dictionary': {\n",
    "                '$filter': {\n",
    "                    'input': '$word_dictionary',\n",
    "                    'as': 'words',\n",
    "                    'cond': {\n",
    "                        '$in': [\n",
    "                            '$$words.word', [\n",
    "                                'apple', 'office'\n",
    "                            ]\n",
    "                        ]\n",
    "                    }\n",
    "                }\n",
    "            }\n",
    "        }\n",
    "    },\n",
    "]"
   ]
  },
  {
   "cell_type": "code",
   "execution_count": 7,
   "metadata": {
    "scrolled": true
   },
   "outputs": [
    {
     "name": "stdout",
     "output_type": "stream",
     "text": [
      "68756\n"
     ]
    }
   ],
   "source": [
    "data = list(client['enigma']['pages'].aggregate(pipeline=pipeline))\n",
    "pprint(len(data))"
   ]
  },
  {
   "cell_type": "code",
   "execution_count": 14,
   "metadata": {},
   "outputs": [],
   "source": [
    "pipeline = [\n",
    "    {\n",
    "        \"$project\": {\n",
    "            \"_id\": 0,\n",
    "            \"words\": {\n",
    "                \"$filter\": {\n",
    "                    \"input\": \"$words\",\n",
    "                    \"as\": \"words\",\n",
    "                    \"cond\": {\n",
    "                        \"$in\": [\"$$words.word\", search_keyword.split()]\n",
    "                    }\n",
    "                }\n",
    "            }\n",
    "        }\n",
    "    }\n",
    "]"
   ]
  },
  {
   "cell_type": "code",
   "execution_count": 15,
   "metadata": {},
   "outputs": [
    {
     "name": "stdout",
     "output_type": "stream",
     "text": [
      "[{'words': [{'count': 2, 'frq': 2.34, 'word': 'word1'},\n",
      "            {'count': 1, 'frq': 0.57, 'word': 'word2'}]},\n",
      " {'words': [{'count': 3, 'frq': 2.34, 'word': 'word1'}]},\n",
      " {'words': [{'count': 2, 'frq': 0.57, 'word': 'word2'}]}]\n"
     ]
    }
   ],
   "source": [
    "data = list(client['enigma']['test'].aggregate(pipeline=pipeline))\n",
    "pprint(data)"
   ]
  },
  {
   "cell_type": "code",
   "execution_count": null,
   "metadata": {},
   "outputs": [],
   "source": []
  }
 ],
 "metadata": {
  "kernelspec": {
   "display_name": "Python 3",
   "language": "python",
   "name": "python3"
  },
  "language_info": {
   "codemirror_mode": {
    "name": "ipython",
    "version": 3
   },
   "file_extension": ".py",
   "mimetype": "text/x-python",
   "name": "python",
   "nbconvert_exporter": "python",
   "pygments_lexer": "ipython3",
   "version": "3.8.5"
  }
 },
 "nbformat": 4,
 "nbformat_minor": 4
}
