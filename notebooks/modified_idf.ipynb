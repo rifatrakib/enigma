{
 "cells": [
  {
   "cell_type": "code",
   "execution_count": 1,
   "metadata": {},
   "outputs": [],
   "source": [
    "from pymongo import MongoClient\n",
    "from pprint import pprint"
   ]
  },
  {
   "cell_type": "code",
   "execution_count": 2,
   "metadata": {},
   "outputs": [],
   "source": [
    "client = MongoClient('localhost', 27017)"
   ]
  },
  {
   "cell_type": "code",
   "execution_count": 3,
   "metadata": {},
   "outputs": [
    {
     "name": "stdout",
     "output_type": "stream",
     "text": [
      "[{'_id': ObjectId('604defe9478140f46cd5747b'),\n",
      "  'words': [{'count': 2, 'frq': 2.34, 'word': 'word1'},\n",
      "            {'count': 1, 'frq': 0.57, 'word': 'word2'}]},\n",
      " {'_id': ObjectId('604deffd478140f46cd5747c'),\n",
      "  'words': [{'count': 3, 'frq': 2.34, 'word': 'word1'},\n",
      "            {'count': 1, 'frq': 4.65, 'word': 'word3'}]},\n",
      " {'_id': ObjectId('604df004478140f46cd5747d'),\n",
      "  'words': [{'count': 2, 'frq': 0.57, 'word': 'word2'},\n",
      "            {'count': 2, 'frq': 0.0, 'word': 'nothing'}]}]\n"
     ]
    }
   ],
   "source": [
    "data = list(client['enigma']['test'].find())\n",
    "pprint(data)"
   ]
  },
  {
   "cell_type": "code",
   "execution_count": 4,
   "metadata": {},
   "outputs": [
    {
     "name": "stdout",
     "output_type": "stream",
     "text": [
      "{'word1': 2.34, 'word2': 0.57, 'word3': 4.65, 'word4': 0}\n"
     ]
    }
   ],
   "source": [
    "words = {\n",
    "    'word1': 2.34,\n",
    "    'word2': 0.57,\n",
    "    'word3': 4.65,\n",
    "    'word4': 0\n",
    "}\n",
    "pprint(words)"
   ]
  },
  {
   "cell_type": "code",
   "execution_count": 5,
   "metadata": {},
   "outputs": [
    {
     "name": "stdout",
     "output_type": "stream",
     "text": [
      "successful!\n"
     ]
    }
   ],
   "source": [
    "for doc in client['enigma']['test'].find():\n",
    "    doc_id = doc['_id']\n",
    "    for item in doc['words']:\n",
    "        key = item['word']\n",
    "        if key not in words.keys():\n",
    "            continue\n",
    "        client['enigma']['test'].update_one(\n",
    "            {'_id': doc_id, 'words.word': key},\n",
    "            {\n",
    "                '$set': {'words.$.frq': words[key]}\n",
    "            }\n",
    "        )\n",
    "print('successful!')"
   ]
  },
  {
   "cell_type": "code",
   "execution_count": 6,
   "metadata": {},
   "outputs": [
    {
     "name": "stdout",
     "output_type": "stream",
     "text": [
      "[{'_id': ObjectId('604defe9478140f46cd5747b'),\n",
      "  'words': [{'count': 2, 'frq': 2.34, 'word': 'word1'},\n",
      "            {'count': 1, 'frq': 0.57, 'word': 'word2'}]},\n",
      " {'_id': ObjectId('604deffd478140f46cd5747c'),\n",
      "  'words': [{'count': 3, 'frq': 2.34, 'word': 'word1'},\n",
      "            {'count': 1, 'frq': 4.65, 'word': 'word3'}]},\n",
      " {'_id': ObjectId('604df004478140f46cd5747d'),\n",
      "  'words': [{'count': 2, 'frq': 0.57, 'word': 'word2'},\n",
      "            {'count': 2, 'frq': 0.0, 'word': 'nothing'}]}]\n"
     ]
    }
   ],
   "source": [
    "data = list(client['enigma']['test'].find())\n",
    "pprint(data)"
   ]
  },
  {
   "cell_type": "code",
   "execution_count": 7,
   "metadata": {},
   "outputs": [
    {
     "name": "stdout",
     "output_type": "stream",
     "text": [
      "successful!\n"
     ]
    }
   ],
   "source": [
    "client['enigma']['test'].update_many(\n",
    "    {},\n",
    "    {\"$pull\": {\n",
    "        \"words\": {\"frq\": 0}\n",
    "    }}\n",
    ")\n",
    "print('successful!')"
   ]
  },
  {
   "cell_type": "code",
   "execution_count": 8,
   "metadata": {},
   "outputs": [
    {
     "name": "stdout",
     "output_type": "stream",
     "text": [
      "[{'_id': ObjectId('604defe9478140f46cd5747b'),\n",
      "  'words': [{'count': 2, 'frq': 2.34, 'word': 'word1'},\n",
      "            {'count': 1, 'frq': 0.57, 'word': 'word2'}]},\n",
      " {'_id': ObjectId('604deffd478140f46cd5747c'),\n",
      "  'words': [{'count': 3, 'frq': 2.34, 'word': 'word1'},\n",
      "            {'count': 1, 'frq': 4.65, 'word': 'word3'}]},\n",
      " {'_id': ObjectId('604df004478140f46cd5747d'),\n",
      "  'words': [{'count': 2, 'frq': 0.57, 'word': 'word2'}]}]\n"
     ]
    }
   ],
   "source": [
    "data = list(client['enigma']['test'].find())\n",
    "pprint(data)"
   ]
  },
  {
   "cell_type": "code",
   "execution_count": null,
   "metadata": {},
   "outputs": [],
   "source": []
  }
 ],
 "metadata": {
  "kernelspec": {
   "display_name": "Python 3",
   "language": "python",
   "name": "python3"
  },
  "language_info": {
   "codemirror_mode": {
    "name": "ipython",
    "version": 3
   },
   "file_extension": ".py",
   "mimetype": "text/x-python",
   "name": "python",
   "nbconvert_exporter": "python",
   "pygments_lexer": "ipython3",
   "version": "3.8.5"
  }
 },
 "nbformat": 4,
 "nbformat_minor": 4
}
