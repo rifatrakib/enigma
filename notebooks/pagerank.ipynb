{
 "cells": [
  {
   "cell_type": "code",
   "execution_count": 1,
   "metadata": {},
   "outputs": [],
   "source": [
    "from pymongo import MongoClient\n",
    "from pprint import pprint"
   ]
  },
  {
   "cell_type": "code",
   "execution_count": 2,
   "metadata": {},
   "outputs": [],
   "source": [
    "client = MongoClient('localhost', 27017)\n",
    "pipeline = [\n",
    "    {\n",
    "        \"$project\": {\"_id\": 1, \"links\": 1, \"old\": 1, \"new\": 1}\n",
    "    }\n",
    "]"
   ]
  },
  {
   "cell_type": "code",
   "execution_count": 3,
   "metadata": {},
   "outputs": [
    {
     "name": "stdout",
     "output_type": "stream",
     "text": [
      "[{'_id': 24752893,\n",
      "  'links': ['6786765789.0', '76675567'],\n",
      "  'new': 1.1290058538953526e-05,\n",
      "  'old': 0.0},\n",
      " {'_id': 6786765789.0,\n",
      "  'links': ['24752893'],\n",
      "  'new': 5.645029269476763e-06,\n",
      "  'old': 0.0},\n",
      " {'_id': 76675567,\n",
      "  'links': ['24752893', '6786765789.0'],\n",
      "  'new': 1.1290058538953526e-05,\n",
      "  'old': 0.0}]\n"
     ]
    }
   ],
   "source": [
    "data = list(client['enigma']['test'].aggregate(pipeline=pipeline))\n",
    "pprint(data)"
   ]
  },
  {
   "cell_type": "code",
   "execution_count": 4,
   "metadata": {},
   "outputs": [
    {
     "name": "stdout",
     "output_type": "stream",
     "text": [
      "[{'_id': 24752893,\n",
      "  'links': ['6786765789.0', '76675567'],\n",
      "  'new': 1.1290058538953526e-05,\n",
      "  'old': 1.1290058538953526e-05},\n",
      " {'_id': 6786765789.0,\n",
      "  'links': ['24752893'],\n",
      "  'new': 5.645029269476763e-06,\n",
      "  'old': 5.645029269476763e-06},\n",
      " {'_id': 76675567,\n",
      "  'links': ['24752893', '6786765789.0'],\n",
      "  'new': 1.1290058538953526e-05,\n",
      "  'old': 1.1290058538953526e-05}]\n"
     ]
    }
   ],
   "source": [
    "for doc in data:\n",
    "    doc['old'] = doc['new']\n",
    "pprint(data)"
   ]
  },
  {
   "cell_type": "code",
   "execution_count": 5,
   "metadata": {},
   "outputs": [
    {
     "name": "stdout",
     "output_type": "stream",
     "text": [
      "{'24752893': ['6786765789.0', '76675567'],\n",
      " '6786765789.0': ['24752893'],\n",
      " '76675567': ['24752893', '6786765789.0']}\n"
     ]
    }
   ],
   "source": [
    "back_links = {}\n",
    "for doc in data:\n",
    "    url_rank = 0\n",
    "    url_links = []\n",
    "    for link in doc['links']:\n",
    "        url_links.append(link)\n",
    "    back_links[str(doc['_id'])] = url_links\n",
    "pprint(back_links)"
   ]
  },
  {
   "cell_type": "code",
   "execution_count": 6,
   "metadata": {},
   "outputs": [
    {
     "name": "stdout",
     "output_type": "stream",
     "text": [
      "5\n"
     ]
    }
   ],
   "source": [
    "item_count = 0\n",
    "for key, value in back_links.items():\n",
    "    item_count += len(value)\n",
    "print(item_count)"
   ]
  },
  {
   "cell_type": "code",
   "execution_count": 7,
   "metadata": {},
   "outputs": [
    {
     "name": "stdout",
     "output_type": "stream",
     "text": [
      "{'24752893': ['6786765789.0', '76675567'],\n",
      " '6786765789.0': ['24752893'],\n",
      " '76675567': ['24752893', '6786765789.0', 132]}\n"
     ]
    }
   ],
   "source": [
    "back_links['76675567'].append(132)\n",
    "pprint(back_links)"
   ]
  },
  {
   "cell_type": "code",
   "execution_count": 8,
   "metadata": {},
   "outputs": [
    {
     "name": "stdout",
     "output_type": "stream",
     "text": [
      "{'24752893': 1.1290058538953526e-05,\n",
      " '6786765789.0': 5.645029269476763e-06,\n",
      " '76675567': 1.1290058538953526e-05}\n"
     ]
    }
   ],
   "source": [
    "all_docs = {}\n",
    "for item in data:\n",
    "    all_docs[str(item['_id'])] = item['new']\n",
    "pprint(all_docs)"
   ]
  },
  {
   "cell_type": "code",
   "execution_count": 9,
   "metadata": {},
   "outputs": [
    {
     "name": "stdout",
     "output_type": "stream",
     "text": [
      "{'24752893': 1.693508780843029e-05,\n",
      " '6786765789.0': 1.1290058538953526e-05,\n",
      " '76675567': 1.693508780843029e-05}\n"
     ]
    }
   ],
   "source": [
    "ranks = {}\n",
    "for doc, links in back_links.items():\n",
    "    new_rank = 0\n",
    "    for link in links:\n",
    "        if link in all_docs.keys():\n",
    "            new_rank += all_docs[link]\n",
    "        else:\n",
    "            continue\n",
    "    ranks[doc] = new_rank\n",
    "pprint(ranks)"
   ]
  },
  {
   "cell_type": "code",
   "execution_count": null,
   "metadata": {},
   "outputs": [],
   "source": []
  }
 ],
 "metadata": {
  "kernelspec": {
   "display_name": "Python 3",
   "language": "python",
   "name": "python3"
  },
  "language_info": {
   "codemirror_mode": {
    "name": "ipython",
    "version": 3
   },
   "file_extension": ".py",
   "mimetype": "text/x-python",
   "name": "python",
   "nbconvert_exporter": "python",
   "pygments_lexer": "ipython3",
   "version": "3.8.5"
  }
 },
 "nbformat": 4,
 "nbformat_minor": 4
}
